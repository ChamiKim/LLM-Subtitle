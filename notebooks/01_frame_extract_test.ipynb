{
 "cells": [
  {
   "cell_type": "markdown",
   "metadata": {},
   "source": [
    "# frame 추출 시간 실험"
   ]
  },
  {
   "cell_type": "code",
   "execution_count": 1,
   "metadata": {},
   "outputs": [
    {
     "name": "stderr",
     "output_type": "stream",
     "text": [
      "ffmpeg version 7.1.1 Copyright (c) 2000-2025 the FFmpeg developers\n",
      "  built with Apple clang version 16.0.0 (clang-1600.0.26.6)\n",
      "  configuration: --prefix=/opt/homebrew/Cellar/ffmpeg/7.1.1_1 --enable-shared --enable-pthreads --enable-version3 --cc=clang --host-cflags= --host-ldflags='-Wl,-ld_classic' --enable-ffplay --enable-gnutls --enable-gpl --enable-libaom --enable-libaribb24 --enable-libbluray --enable-libdav1d --enable-libharfbuzz --enable-libjxl --enable-libmp3lame --enable-libopus --enable-librav1e --enable-librist --enable-librubberband --enable-libsnappy --enable-libsrt --enable-libssh --enable-libsvtav1 --enable-libtesseract --enable-libtheora --enable-libvidstab --enable-libvmaf --enable-libvorbis --enable-libvpx --enable-libwebp --enable-libx264 --enable-libx265 --enable-libxml2 --enable-libxvid --enable-lzma --enable-libfontconfig --enable-libfreetype --enable-frei0r --enable-libass --enable-libopencore-amrnb --enable-libopencore-amrwb --enable-libopenjpeg --enable-libspeex --enable-libsoxr --enable-libzmq --enable-libzimg --disable-libjack --disable-indev=jack --enable-videotoolbox --enable-audiotoolbox --enable-neon\n",
      "  libavutil      59. 39.100 / 59. 39.100\n",
      "  libavcodec     61. 19.101 / 61. 19.101\n",
      "  libavformat    61.  7.100 / 61.  7.100\n",
      "  libavdevice    61.  3.100 / 61.  3.100\n",
      "  libavfilter    10.  4.100 / 10.  4.100\n",
      "  libswscale      8.  3.100 /  8.  3.100\n",
      "  libswresample   5.  3.100 /  5.  3.100\n",
      "  libpostproc    58.  3.100 / 58.  3.100\n",
      "Input #0, mov,mp4,m4a,3gp,3g2,mj2, from '/Users/chami/Desktop/monu/data/raw/20250321.mp4':\n",
      "  Metadata:\n",
      "    major_brand     : isom\n",
      "    minor_version   : 512\n",
      "    compatible_brands: isomiso2avc1mp41\n",
      "    encoder         : Lavf61.7.100\n",
      "  Duration: 00:05:53.51, start: 0.000000, bitrate: 3567 kb/s\n",
      "  Stream #0:0[0x1](eng): Video: h264 (High) (avc1 / 0x31637661), yuv420p(tv, bt709, progressive), 1920x1080 [SAR 1:1 DAR 16:9], 3430 kb/s, 30 fps, 30 tbr, 15360 tbn (default)\n",
      "      Metadata:\n",
      "        handler_name    : VideoHandler\n",
      "        vendor_id       : [0][0][0][0]\n",
      "        encoder         : Lavc61.19.101 libx264\n",
      "  Stream #0:1[0x2](eng): Audio: aac (LC) (mp4a / 0x6134706D), 48000 Hz, stereo, fltp, 128 kb/s (default)\n",
      "      Metadata:\n",
      "        handler_name    : SoundHandler\n",
      "        vendor_id       : [0][0][0][0]\n",
      "Stream mapping:\n",
      "  Stream #0:0 -> #0:0 (h264 (native) -> mjpeg (native))\n",
      "Press [q] to stop, [?] for help\n",
      "Output #0, image2, to '../data/frames/20250321_1.0/frame_%05d.jpg':\n",
      "  Metadata:\n",
      "    major_brand     : isom\n",
      "    minor_version   : 512\n",
      "    compatible_brands: isomiso2avc1mp41\n",
      "    encoder         : Lavf61.7.100\n",
      "  Stream #0:0(eng): Video: mjpeg, yuv420p(pc, bt709, progressive), 1920x1080 [SAR 1:1 DAR 16:9], q=2-31, 200 kb/s, 1 fps, 1 tbn (default)\n",
      "      Metadata:\n",
      "        handler_name    : VideoHandler\n",
      "        vendor_id       : [0][0][0][0]\n",
      "        encoder         : Lavc61.19.101 mjpeg\n",
      "      Side data:\n",
      "        cpb: bitrate max/min/avg: 0/0/200000 buffer size: 0 vbv_delay: N/A\n",
      "frame=  322 fps= 40 q=24.8 size=N/A time=00:05:22.00 bitrate=N/A speed=  40x    \r"
     ]
    },
    {
     "name": "stdout",
     "output_type": "stream",
     "text": [
      "✅ 프레임 추출 완료: ../data/frames/20250321_1.0\n"
     ]
    },
    {
     "name": "stderr",
     "output_type": "stream",
     "text": [
      "[out#0/image2 @ 0x14ef07540] video:15831KiB audio:0KiB subtitle:0KiB other streams:0KiB global headers:0KiB muxing overhead: unknown\n",
      "frame=  354 fps= 41 q=24.8 Lsize=N/A time=00:05:54.00 bitrate=N/A speed=40.7x    \n"
     ]
    }
   ],
   "source": [
    "import os\n",
    "import subprocess\n",
    "from datetime import datetime\n",
    "\n",
    "def extract_frames(video_path, fps=1):\n",
    "    \"\"\"\n",
    "    ffmpeg를 이용해 영상에서 프레임을 추출합니다.\n",
    "    :param video_path: 비디오 파일 경로\n",
    "    :param fps: 초당 프레임 수 (기본값 1초에 1프레임)\n",
    "    \"\"\"\n",
    "    # 비디오 파일에서 날짜 추출 (예: 20250226.mp4 -> 20250226)\n",
    "    video_name = os.path.basename(video_path)\n",
    "    video_date = video_name.split('.')[0]  # '20250226'\n",
    "\n",
    "    # 출력 폴더 생성 (비디오 날짜 + \"_frames_1s\")\n",
    "    output_folder = f\"../data/frames/{video_date}_{fps}\"\n",
    "    os.makedirs(output_folder, exist_ok=True)\n",
    "\n",
    "    # ffmpeg 명령어 구성\n",
    "    command = [\n",
    "        \"ffmpeg\",  # ffmpeg 명령어\n",
    "        \"-i\", video_path,  # 입력 비디오 파일\n",
    "        \"-vf\", f\"fps={fps}\",  # fps 옵션\n",
    "        f\"{output_folder}/frame_%05d.jpg\"  # 출력 파일 경로\n",
    "    ]\n",
    "\n",
    "    try:\n",
    "        # ffmpeg 명령어 실행\n",
    "        subprocess.run(command, check=True)\n",
    "        print(f\"✅ 프레임 추출 완료: {output_folder}\")\n",
    "    except subprocess.CalledProcessError as e:\n",
    "        print(f\"❌ 프레임 추출 실패: {e}\")\n",
    "\n",
    "if __name__ == \"__main__\":\n",
    "    video_path = input(\"🔗 비디오 파일 경로를 입력하세요: \").strip()\n",
    "    fps = float(input(\"⏱ 초당 프레임 수를 입력하세요 (예: 1초에 1프레임 -> 1): \").strip())\n",
    "\n",
    "    # 프레임 추출 함수 실행\n",
    "    extract_frames(video_path, fps)"
   ]
  }
 ],
 "metadata": {
  "kernelspec": {
   "display_name": "monu",
   "language": "python",
   "name": "python3"
  },
  "language_info": {
   "codemirror_mode": {
    "name": "ipython",
    "version": 3
   },
   "file_extension": ".py",
   "mimetype": "text/x-python",
   "name": "python",
   "nbconvert_exporter": "python",
   "pygments_lexer": "ipython3",
   "version": "3.10.16"
  }
 },
 "nbformat": 4,
 "nbformat_minor": 2
}
