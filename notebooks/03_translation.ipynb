{
 "cells": [
  {
   "cell_type": "markdown",
   "id": "5c4505fb",
   "metadata": {},
   "source": [
    "# Translation"
   ]
  },
  {
   "cell_type": "code",
   "execution_count": 1,
   "id": "cd42ff1b",
   "metadata": {},
   "outputs": [],
   "source": [
    "from openai import OpenAI\n",
    "\n",
    "# 1️⃣ OpenAI client 초기화\n",
    "client = OpenAI(api_key='REMOVED')\n",
    "\n",
    "# 2️⃣ SRT 파일 읽기\n",
    "input_srt = \"/Users/chami/Desktop/monu/data/srt/20250226.srt\"\n",
    "output_srt_en = \"/Users/chami/Desktop/monu/data/srt/20250226_en.srt\"\n",
    "\n",
    "with open(input_srt, 'r', encoding='utf-8') as f:\n",
    "    lines = f.readlines()\n",
    "\n",
    "# 3️⃣ 번역 처리\n",
    "translated_lines = []\n",
    "for line in lines:\n",
    "    if line.strip() and not line.strip().isdigit() and '-->' not in line:\n",
    "        # 한글 자막 라인 → GPT 번역 요청\n",
    "        response = client.chat.completions.create(\n",
    "            model=\"gpt-4-turbo\",\n",
    "            messages=[\n",
    "                {\"role\": \"system\", \"content\": \"You are a professional translator who translates Korean YouTube vlog subtitles into casual, friendly English. The translations should feel natural, like a conversation between friends, matching the tone of a vlog.\"},\n",
    "                {\"role\": \"user\", \"content\": f\"\"\"예시:\n",
    "                        - 오늘 날씨가 정말 좋아요! → Beautiful day!\n",
    "                        - 꼭 가봐야 해요! → Must visit!\n",
    "                        - 너무 귀엽다! → So cute!\n",
    "\n",
    "                        이런 식으로 **짧고 임팩트 있게**, 다음 문장을 영어로 번역해줘 (브이로그 스타일):\n",
    "                        {line.strip()}\"\"\"}\n",
    "            ],\n",
    "            max_tokens=100\n",
    "        )\n",
    "        translated_text = response.choices[0].message.content.strip()\n",
    "        translated_lines.append(translated_text + '\\n')\n",
    "    else:\n",
    "        # 번호 / 타임스탬프 라인은 그대로\n",
    "        translated_lines.append(line)\n",
    "\n",
    "# 4️⃣ 번역된 SRT 저장\n",
    "with open(output_srt_en, 'w', encoding='utf-8') as f:\n",
    "    f.writelines(translated_lines)"
   ]
  },
  {
   "cell_type": "code",
   "execution_count": null,
   "id": "41c14c00",
   "metadata": {},
   "outputs": [],
   "source": []
  }
 ],
 "metadata": {
  "kernelspec": {
   "display_name": "monu",
   "language": "python",
   "name": "python3"
  },
  "language_info": {
   "codemirror_mode": {
    "name": "ipython",
    "version": 3
   },
   "file_extension": ".py",
   "mimetype": "text/x-python",
   "name": "python",
   "nbconvert_exporter": "python",
   "pygments_lexer": "ipython3",
   "version": "3.10.16"
  }
 },
 "nbformat": 4,
 "nbformat_minor": 5
}
