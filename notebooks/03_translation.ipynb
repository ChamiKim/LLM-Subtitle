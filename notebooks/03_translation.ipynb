{
 "cells": [
  {
   "cell_type": "markdown",
   "id": "5c4505fb",
   "metadata": {},
   "source": [
    "# Translation"
   ]
  },
  {
   "cell_type": "code",
   "execution_count": null,
   "id": "cd42ff1b",
   "metadata": {},
   "outputs": [],
   "source": [
    "from openai import OpenAI\n",
    "\n",
    "# 1️⃣ OpenAI client 초기화\n",
    "client = OpenAI(api_key=)\n",
    "\n",
    "# 2️⃣ SRT 파일 읽기\n",
    "input_srt = \"/Users/chami/Desktop/monu/data/srt/250511.srt\"\n",
    "output_srt_en = \"/Users/chami/Desktop/monu/data/srt/250511_en.srt\"\n",
    "\n",
    "with open(input_srt, 'r', encoding='utf-8') as f:\n",
    "    lines = f.readlines()\n",
    "\n",
    "# 3️⃣ 번역 처리\n",
    "translated_lines = []\n",
    "for line in lines:\n",
    "    if line.strip() and not line.strip().isdigit() and '-->' not in line:\n",
    "        # 한글 자막 라인 → GPT 번역 요청\n",
    "        response = client.chat.completions.create(\n",
    "            model=\"gpt-4-turbo\",\n",
    "            messages = [\n",
    "                    {\n",
    "                        \"role\": \"system\",\n",
    "                        \"content\": (\n",
    "                            \"You are a professional subtitle translator for YouTube vlogs. \"\n",
    "                            \"Your job is to translate Korean vlog subtitles into clear, casual, and natural-sounding English. \"\n",
    "                            \"The translations should feel like something a friendly, cheerful vlogger would say. \"\n",
    "                            \"Keep it short, snappy, and emotionally expressive — like something you'd see in YouTube subtitles. \"\n",
    "                        )\n",
    "                    },\n",
    "                    {\n",
    "                        \"role\": \"user\",\n",
    "                        \"content\": (\n",
    "                            \"Here are examples of the tone and style:\\n\"\n",
    "                            \"- 오늘 날씨가 정말 좋아요! → Beautiful day!\\n\"\n",
    "                            \"- 꼭 가봐야 해요! → Must visit!\\n\"\n",
    "                            \"- 너무 귀엽다! → So cute!\\n\\n\"\n",
    "                            \"Translate the following sentence in that vlog style (short, clear, and friendly):\\n\"\n",
    "                            f\"{line.strip()}\"\n",
    "                        )\n",
    "                    }\n",
    "                ],\n",
    "            max_tokens=100\n",
    "        )\n",
    "        translated_text = response.choices[0].message.content.strip()\n",
    "        translated_lines.append(translated_text + '\\n')\n",
    "    else:\n",
    "        # 번호 / 타임스탬프 라인은 그대로\n",
    "        translated_lines.append(line)\n",
    "\n",
    "# 4️⃣ 번역된 SRT 저장\n",
    "with open(output_srt_en, 'w', encoding='utf-8') as f:\n",
    "    f.writelines(translated_lines)"
   ]
  },
  {
   "cell_type": "code",
   "execution_count": 5,
   "id": "41c14c00",
   "metadata": {},
   "outputs": [],
   "source": [
    "from openai import OpenAI\n",
    "\n",
    "# 1️⃣ OpenAI client 초기화\n",
    "client = OpenAI(api_key='REMOVED')\n",
    "\n",
    "# 2️⃣ SRT 파일 읽기\n",
    "input_srt = \"/Users/chami/Desktop/monu/data/srt/250511_en_youtu.srt\"\n",
    "output_srt_en = \"/Users/chami/Desktop/monu/data/srt/250511_jp.srt\"\n",
    "\n",
    "with open(input_srt, 'r', encoding='utf-8') as f:\n",
    "    lines = f.readlines()\n",
    "\n",
    "# 3️⃣ 번역 처리\n",
    "translated_lines = []\n",
    "for line in lines:\n",
    "    if line.strip() and not line.strip().isdigit() and '-->' not in line:\n",
    "        # 한글 자막 라인 → GPT 번역 요청\n",
    "        response = client.chat.completions.create(\n",
    "            model=\"gpt-4-turbo\",\n",
    "            messages = [\n",
    "            {\n",
    "                \"role\": \"system\",\n",
    "                \"content\": (\n",
    "                    \"You are a professional subtitle translator for YouTube vlogs. \"\n",
    "                    \"Your job is to translate English vlog subtitles into casual, natural-sounding Japanese. \"\n",
    "                    \"The translations should sound like something a cheerful Japanese vlogger would say in real life. \"\n",
    "                    \"Keep it short, friendly, and emotionally expressive — just like catchy YouTube subtitles in Japanese. \"\n",
    "                    \"Aim for clarity and tone that feels familiar to a Japanese audience.\"\n",
    "                )\n",
    "            },\n",
    "            {\n",
    "                \"role\": \"user\",\n",
    "                \"content\": (\n",
    "                    \"Here are examples of the tone and style:\\n\"\n",
    "                    \"- Beautiful day! → いい天気〜！\\n\"\n",
    "                    \"- Must visit! → 絶対行くべき！\\n\"\n",
    "                    \"- So cute! → めっちゃかわいい！\\n\\n\"\n",
    "                    \"Translate the following English subtitle into that vlog-style Japanese (short, casual, expressive):\\n\"\n",
    "                    f\"{line.strip()}\"\n",
    "                )\n",
    "            }\n",
    "        ],\n",
    "            max_tokens=100\n",
    "        )\n",
    "        translated_text = response.choices[0].message.content.strip()\n",
    "        translated_lines.append(translated_text + '\\n')\n",
    "    else:\n",
    "        # 번호 / 타임스탬프 라인은 그대로\n",
    "        translated_lines.append(line)\n",
    "\n",
    "# 4️⃣ 번역된 SRT 저장\n",
    "with open(output_srt_en, 'w', encoding='utf-8') as f:\n",
    "    f.writelines(translated_lines)"
   ]
  },
  {
   "cell_type": "code",
   "execution_count": null,
   "id": "3dbc3dd6",
   "metadata": {},
   "outputs": [],
   "source": []
  },
  {
   "cell_type": "code",
   "execution_count": 7,
   "id": "42c03c62",
   "metadata": {},
   "outputs": [],
   "source": [
    "import streamlit as st"
   ]
  },
  {
   "cell_type": "code",
   "execution_count": 8,
   "id": "dbc3e72c",
   "metadata": {},
   "outputs": [
    {
     "name": "stderr",
     "output_type": "stream",
     "text": [
      "2025-05-13 13:04:34.744 WARNING streamlit.runtime.scriptrunner_utils.script_run_context: Thread 'MainThread': missing ScriptRunContext! This warning can be ignored when running in bare mode.\n",
      "2025-05-13 13:04:34.812 \n",
      "  \u001b[33m\u001b[1mWarning:\u001b[0m to view this Streamlit app on a browser, run it with the following\n",
      "  command:\n",
      "\n",
      "    streamlit run /Users/chami/anaconda3/envs/monu/lib/python3.10/site-packages/ipykernel_launcher.py [ARGUMENTS]\n",
      "2025-05-13 13:04:34.812 Thread 'MainThread': missing ScriptRunContext! This warning can be ignored when running in bare mode.\n"
     ]
    }
   ],
   "source": [
    "st.write(\"\"\"\n",
    "# My first app\n",
    "Hello *world!*\n",
    "\"\"\")"
   ]
  },
  {
   "cell_type": "code",
   "execution_count": null,
   "id": "1fec80e1",
   "metadata": {},
   "outputs": [],
   "source": []
  }
 ],
 "metadata": {
  "kernelspec": {
   "display_name": "monu",
   "language": "python",
   "name": "python3"
  },
  "language_info": {
   "codemirror_mode": {
    "name": "ipython",
    "version": 3
   },
   "file_extension": ".py",
   "mimetype": "text/x-python",
   "name": "python",
   "nbconvert_exporter": "python",
   "pygments_lexer": "ipython3",
   "version": "3.10.16"
  }
 },
 "nbformat": 4,
 "nbformat_minor": 5
}
