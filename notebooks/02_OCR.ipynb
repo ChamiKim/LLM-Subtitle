{
 "cells": [
  {
   "cell_type": "markdown",
   "id": "b2f57c44",
   "metadata": {},
   "source": [
    "# 라이브러리 임포트"
   ]
  },
  {
   "cell_type": "code",
   "execution_count": null,
   "id": "29663e82",
   "metadata": {},
   "outputs": [],
   "source": [
    "import os\n",
    "import cv2\n",
    "import easyocr\n",
    "import itertools\n",
    "import matplotlib.pyplot as plt\n",
    "import numpy as np\n",
    "import warnings\n",
    "warnings.filterwarnings(\"ignore\")"
   ]
  },
  {
   "cell_type": "code",
   "execution_count": 28,
   "id": "c821442f",
   "metadata": {},
   "outputs": [
    {
     "name": "stdout",
     "output_type": "stream",
     "text": [
      "[2025/04/23 15:12:50] ppocr DEBUG: Namespace(help='==SUPPRESS==', use_gpu=False, use_xpu=False, use_npu=False, use_mlu=False, use_gcu=False, ir_optim=True, use_tensorrt=False, min_subgraph_size=15, precision='fp32', gpu_mem=500, gpu_id=0, image_dir=None, page_num=0, det_algorithm='DB', det_model_dir='/Users/chami/.paddleocr/whl/det/ml/Multilingual_PP-OCRv3_det_infer', det_limit_side_len=960, det_limit_type='max', det_box_type='quad', det_db_thresh=0.3, det_db_box_thresh=0.4, det_db_unclip_ratio=1.5, max_batch_size=10, use_dilation=False, det_db_score_mode='fast', det_east_score_thresh=0.8, det_east_cover_thresh=0.1, det_east_nms_thresh=0.2, det_sast_score_thresh=0.5, det_sast_nms_thresh=0.2, det_pse_thresh=0, det_pse_box_thresh=0.85, det_pse_min_area=16, det_pse_scale=1, scales=[8, 16, 32], alpha=1.0, beta=1.0, fourier_degree=5, rec_algorithm='SVTR_LCNet', rec_model_dir='/Users/chami/.paddleocr/whl/rec/korean/korean_PP-OCRv4_rec_infer', rec_image_inverse=True, rec_image_shape='3, 48, 320', rec_batch_num=6, max_text_length=25, rec_char_dict_path='/Users/chami/anaconda3/envs/monu/lib/python3.10/site-packages/paddleocr/ppocr/utils/dict/korean_dict.txt', use_space_char=True, vis_font_path='./doc/fonts/simfang.ttf', drop_score=0.5, e2e_algorithm='PGNet', e2e_model_dir=None, e2e_limit_side_len=768, e2e_limit_type='max', e2e_pgnet_score_thresh=0.5, e2e_char_dict_path='./ppocr/utils/ic15_dict.txt', e2e_pgnet_valid_set='totaltext', e2e_pgnet_mode='fast', use_angle_cls=True, cls_model_dir='/Users/chami/.paddleocr/whl/cls/ch_ppocr_mobile_v2.0_cls_infer', cls_image_shape='3, 48, 192', label_list=['0', '180'], cls_batch_num=6, cls_thresh=0.9, enable_mkldnn=False, cpu_threads=10, use_pdserving=False, warmup=False, sr_model_dir=None, sr_image_shape='3, 32, 128', sr_batch_num=1, draw_img_save_dir='./inference_results', save_crop_res=False, crop_res_save_dir='./output', use_mp=False, total_process_num=1, process_id=0, benchmark=False, save_log_path='./log_output/', show_log=True, use_onnx=False, onnx_providers=False, onnx_sess_options=False, return_word_box=False, output='./output', table_max_len=488, table_algorithm='TableAttn', table_model_dir=None, merge_no_span_structure=True, table_char_dict_path=None, formula_algorithm='LaTeXOCR', formula_model_dir=None, formula_char_dict_path=None, formula_batch_num=1, layout_model_dir=None, layout_dict_path=None, layout_score_threshold=0.5, layout_nms_threshold=0.5, kie_algorithm='LayoutXLM', ser_model_dir=None, re_model_dir=None, use_visual_backbone=True, ser_dict_path='../train_data/XFUND/class_list_xfun.txt', ocr_order_method=None, mode='structure', image_orientation=False, layout=True, table=True, formula=False, ocr=True, recovery=False, recovery_to_markdown=False, use_pdf2docx_api=False, invert=False, binarize=False, alphacolor=(255, 255, 255), lang='korean', det=True, rec=True, type='ocr', savefile=False, ocr_version='PP-OCRv4', structure_version='PP-StructureV2')\n",
      "[2025/04/23 15:12:51] ppocr DEBUG: dt_boxes num : 4, elapsed : 0.179948091506958\n",
      "[2025/04/23 15:12:51] ppocr DEBUG: cls num  : 4, elapsed : 0.017804861068725586\n",
      "[2025/04/23 15:12:52] ppocr DEBUG: rec_res num  : 4, elapsed : 0.7052969932556152\n",
      "연핑크 너무조흡gir-\n"
     ]
    }
   ],
   "source": [
    "from paddleocr import PaddleOCR\n",
    "\n",
    "# OCR 모델 초기화 (angle_cls: 회전된 글씨도 잡아줌)\n",
    "ocr = PaddleOCR(det_db_box_thresh=0.4, use_angle_cls=True, lang='korean')\n",
    "\n",
    "# 이미지 경로\n",
    "img_path = '/Users/chami/Desktop/monu/data/frames/20250321_1.0/frame_00016.jpg'\n",
    "\n",
    "# OCR 수행\n",
    "results = ocr.ocr(img_path)[0]\n",
    "\n",
    "merged_line = ''\n",
    "for res in results:\n",
    "    text = res[1][0]\n",
    "    merged_line += text + ' '  # 박스별 텍스트 합치기\n",
    "\n",
    "print(merged_line.strip())"
   ]
  },
  {
   "cell_type": "code",
   "execution_count": null,
   "id": "46dd8265",
   "metadata": {},
   "outputs": [],
   "source": [
    "import cv2\n",
    "import matplotlib.pyplot as plt\n",
    "\n",
    "# 이미지 불러오기\n",
    "img = cv2.imread('/Users/chami/Desktop/monu/data/frames/20250321_1.0/frame_00016.jpg')\n",
    "\n",
    "gray = cv2.cvtColor(img, cv2.COLOR_BGR2GRAY)\n",
    "\n",
    "# 하단 30%만 크롭 (자막 영역)\n",
    "h, w = gray.shape\n",
    "cropped = gray[int(h*0.7):h, :]\n",
    "\n",
    "# 대비 조정\n",
    "alpha = 2.0  # contrast\n",
    "beta = 0\n",
    "adjusted = cv2.convertScaleAbs(cropped, alpha=alpha, beta=beta)\n",
    "\n",
    "# Otsu thresholding\n",
    "_, thresh = cv2.threshold(adjusted, 0, 255, cv2.THRESH_BINARY + cv2.THRESH_OTSU)\n",
    "\n",
    "# Morphology 팽창\n",
    "kernel = np.ones((3,3), np.uint8)\n",
    "dilated = cv2.dilate(thresh, kernel, iterations=1)\n",
    "\n",
    "# 시각화\n",
    "import matplotlib.pyplot as plt\n",
    "plt.imshow(dilated, cmap='gray')\n",
    "plt.axis('off')\n",
    "plt.show()"
   ]
  },
  {
   "cell_type": "code",
   "execution_count": null,
   "id": "33f07f23",
   "metadata": {},
   "outputs": [],
   "source": [
    "# EasyOCR 초기화 (한글 + 영어)\n",
    "reader = easyocr.Reader(['ko', 'en'], recog_network='korean_g2', gpu=False)\n",
    "\n",
    "# 프레임 이미지 폴더 경로\n",
    "frame_folder = '/Users/chami/Desktop/monu/data/frames/20250321_1.0'  # 저장한 경로로 바꿔줘\n",
    "\n",
    "# 결과 저장할 리스트\n",
    "ocr_results = []\n",
    "\n",
    "for filename in sorted(os.listdir(frame_folder)):\n",
    "    if filename.endswith('.jpg') or filename.endswith('.png'):\n",
    "        img_path = os.path.join(frame_folder, filename)\n",
    "        image = cv2.imread(img_path)\n",
    "\n",
    "        # 1. 자막 영역만 크롭 (하단 30%)\n",
    "        h, w, _ = image.shape\n",
    "        cropped = image[int(h*0.7):h, :]\n",
    "\n",
    "        # 2. 그레이스케일 + 대비 강화 + 블러\n",
    "        gray = cv2.cvtColor(cropped, cv2.COLOR_BGR2GRAY)\n",
    "        enhanced = cv2.equalizeHist(gray)  # 대비 강화\n",
    "        blurred = cv2.GaussianBlur(enhanced, (1, 1), 0)  # 노이즈 제거\n",
    "\n",
    "        # 3. OCR 수행 (confidence 포함)\n",
    "        results = reader.readtext(blurred, detail=1)\n",
    "\n",
    "        # 4. confidence 0.5 이상만 텍스트 추출\n",
    "        filtered_texts = [text for _, text, conf in results if conf > 0.5]\n",
    "        text = ' '.join(filtered_texts).strip()\n",
    "\n",
    "        print(f\"{filename}: {text}\")\n",
    "        ocr_results.append((filename, text))"
   ]
  },
  {
   "cell_type": "code",
   "execution_count": 50,
   "id": "7cc2ed55",
   "metadata": {},
   "outputs": [
    {
     "name": "stdout",
     "output_type": "stream",
     "text": [
      "[2025/04/23 16:01:07] ppocr DEBUG: Namespace(help='==SUPPRESS==', use_gpu=False, use_xpu=False, use_npu=False, use_mlu=False, use_gcu=False, ir_optim=True, use_tensorrt=False, min_subgraph_size=15, precision='fp32', gpu_mem=500, gpu_id=0, image_dir=None, page_num=0, det_algorithm='DB', det_model_dir='/Users/chami/.paddleocr/whl/det/ml/Multilingual_PP-OCRv3_det_infer', det_limit_side_len=960, det_limit_type='max', det_box_type='quad', det_db_thresh=0.3, det_db_box_thresh=0.6, det_db_unclip_ratio=1.5, max_batch_size=10, use_dilation=False, det_db_score_mode='fast', det_east_score_thresh=0.8, det_east_cover_thresh=0.1, det_east_nms_thresh=0.2, det_sast_score_thresh=0.5, det_sast_nms_thresh=0.2, det_pse_thresh=0, det_pse_box_thresh=0.85, det_pse_min_area=16, det_pse_scale=1, scales=[8, 16, 32], alpha=1.0, beta=1.0, fourier_degree=5, rec_algorithm='SVTR_LCNet', rec_model_dir='/Users/chami/.paddleocr/whl/rec/korean/korean_PP-OCRv4_rec_infer', rec_image_inverse=True, rec_image_shape='3, 48, 320', rec_batch_num=6, max_text_length=25, rec_char_dict_path='/Users/chami/anaconda3/envs/monu/lib/python3.10/site-packages/paddleocr/ppocr/utils/dict/korean_dict.txt', use_space_char=True, vis_font_path='./doc/fonts/simfang.ttf', drop_score=0.5, e2e_algorithm='PGNet', e2e_model_dir=None, e2e_limit_side_len=768, e2e_limit_type='max', e2e_pgnet_score_thresh=0.5, e2e_char_dict_path='./ppocr/utils/ic15_dict.txt', e2e_pgnet_valid_set='totaltext', e2e_pgnet_mode='fast', use_angle_cls=True, cls_model_dir='/Users/chami/.paddleocr/whl/cls/ch_ppocr_mobile_v2.0_cls_infer', cls_image_shape='3, 48, 192', label_list=['0', '180'], cls_batch_num=6, cls_thresh=0.9, enable_mkldnn=False, cpu_threads=10, use_pdserving=False, warmup=False, sr_model_dir=None, sr_image_shape='3, 32, 128', sr_batch_num=1, draw_img_save_dir='./inference_results', save_crop_res=False, crop_res_save_dir='./output', use_mp=False, total_process_num=1, process_id=0, benchmark=False, save_log_path='./log_output/', show_log=True, use_onnx=False, onnx_providers=False, onnx_sess_options=False, return_word_box=False, output='./output', table_max_len=488, table_algorithm='TableAttn', table_model_dir=None, merge_no_span_structure=True, table_char_dict_path=None, formula_algorithm='LaTeXOCR', formula_model_dir=None, formula_char_dict_path=None, formula_batch_num=1, layout_model_dir=None, layout_dict_path=None, layout_score_threshold=0.5, layout_nms_threshold=0.5, kie_algorithm='LayoutXLM', ser_model_dir=None, re_model_dir=None, use_visual_backbone=True, ser_dict_path='../train_data/XFUND/class_list_xfun.txt', ocr_order_method=None, mode='structure', image_orientation=False, layout=True, table=True, formula=False, ocr=True, recovery=False, recovery_to_markdown=False, use_pdf2docx_api=False, invert=False, binarize=False, alphacolor=(255, 255, 255), lang='korean', det=True, rec=True, type='ocr', savefile=False, ocr_version='PP-OCRv4', structure_version='PP-StructureV2')\n",
      "[2025/04/23 16:01:08] ppocr DEBUG: dt_boxes num : 2, elapsed : 0.06569218635559082\n",
      "[2025/04/23 16:01:09] ppocr DEBUG: rec_res num  : 2, elapsed : 0.5725939273834229\n",
      "[frame_00015.jpg] OCR 결과: 봄이란이런연핑크더무조흠P\n",
      "[2025/04/23 16:01:09] ppocr DEBUG: dt_boxes num : 2, elapsed : 0.05076098442077637\n",
      "[2025/04/23 16:01:09] ppocr DEBUG: rec_res num  : 2, elapsed : 0.39469313621520996\n",
      "[frame_00020.jpg] OCR 결과: 그리고저는가디건에\n",
      "[2025/04/23 16:01:09] ppocr DEBUG: dt_boxes num : 0, elapsed : 0.050100088119506836\n",
      "[2025/04/23 16:01:09] ppocr DEBUG: rec_res num  : 0, elapsed : 9.5367431640625e-07\n",
      "[frame_00029.jpg] OCR 결과: 자막 없음!\n"
     ]
    }
   ],
   "source": [
    "import cv2\n",
    "from paddleocr import PaddleOCR\n",
    "import os\n",
    "\n",
    "# 1️⃣ PaddleOCR 초기화\n",
    "ocr = PaddleOCR(use_angle_cls=True, lang='korean')\n",
    "\n",
    "# 2️⃣ 프레임 경로\n",
    "frame_folder = \"/Users/chami/Desktop/monu/data/frames/20250321_1.0\"\n",
    "test_files = [\"frame_00015.jpg\", \"frame_00020.jpg\", \"frame_00029.jpg\"]  # 테스트 프레임\n",
    "\n",
    "for filename in test_files:\n",
    "    img_path = os.path.join(frame_folder, filename)\n",
    "    img = cv2.imread(img_path)\n",
    "\n",
    "    # 3️⃣ 하단 30% 크롭\n",
    "    h, w = img.shape[:2]\n",
    "    cropped = img[int(h*0.7):h, :]\n",
    "\n",
    "    # 4️⃣ 그레이스케일 + 대비 조정\n",
    "    gray = cv2.cvtColor(cropped, cv2.COLOR_BGR2GRAY)\n",
    "    adjusted = cv2.equalizeHist(gray)\n",
    "\n",
    "    # 5️⃣ Adaptive Thresholding\n",
    "    thresh = cv2.adaptiveThreshold(adjusted, 255, cv2.ADAPTIVE_THRESH_MEAN_C, cv2.THRESH_BINARY, 15, 10)\n",
    "\n",
    "    # 6️⃣ OCR 수행\n",
    "    result = ocr.ocr(thresh, cls=False)[0]\n",
    "\n",
    "    if result:  # 결과 있을 때만 처리\n",
    "        texts = [line[1][0] for line in result if line[1][1] > 0.5]  # confidence > 0.5\n",
    "    else:\n",
    "        texts = []\n",
    "\n",
    "    print(f\"[{filename}] OCR 결과: {' '.join(texts) if texts else '자막 없음!'}\")"
   ]
  },
  {
   "cell_type": "markdown",
   "id": "ddd274ca",
   "metadata": {},
   "source": [
    "# GPT"
   ]
  },
  {
   "cell_type": "code",
   "execution_count": 44,
   "id": "947c3c8b",
   "metadata": {},
   "outputs": [
    {
     "name": "stdout",
     "output_type": "stream",
     "text": [
      "[frame_00001.jpg] OCR: 이미지에 있는 자막은 다음과 같습니다:\n",
      "\n",
      "\"옷들도 날씬핏 자체 움직이라고 자다가..\"\n",
      "[frame_00016.jpg] OCR: 이미지에 있는 자막은 \"볼링라인 엉덩이너무좋죠( ͡° ͜ʖ ͡°)\" 입니다.\n",
      "[frame_00021.jpg] OCR: 이미지에 나타난 자막은 다음과 같습니다: \"그리고 저는 카디건에 단추를 중요한데\"\n"
     ]
    }
   ],
   "source": [
    "from openai import OpenAI\n",
    "import base64\n",
    "import os\n",
    "import datetime\n",
    "\n",
    "# 1️⃣ OpenAI client 초기화\n",
    "client = OpenAI(api_key='REMOVED')\n",
    "\n",
    "# 2️⃣ SRT 시간 포맷 함수\n",
    "def seconds_to_srt_time(seconds):\n",
    "    td = datetime.timedelta(seconds=seconds)\n",
    "    return str(td)[:-3].replace('.', ',')\n",
    "\n",
    "# 3️⃣ 이미지 base64 인코딩 함수\n",
    "def encode_image(image_path):\n",
    "    with open(image_path, \"rb\") as img_file:\n",
    "        return base64.b64encode(img_file.read()).decode('utf-8')\n",
    "\n",
    "# 4️⃣ 프레임 폴더 경로\n",
    "frame_folder = \"/Users/chami/Desktop/monu/data/frames/20250321_1.0\"\n",
    "output_srt = \"/Users/chami/Desktop/monu/data/srt/output_gpt4v.srt\"\n",
    "\n",
    "# 5️⃣ 테스트할 프레임만 선택\n",
    "frame_files = sorted([f for f in os.listdir(frame_folder) if f.endswith('.jpg') or f.endswith('.png')])\n",
    "test_files = [frame_files[0], frame_files[15], frame_files[20]]\n",
    "\n",
    "with open(output_srt, 'w', encoding='utf-8') as f:\n",
    "    for idx, filename in enumerate(test_files):\n",
    "        img_path = os.path.join(frame_folder, filename)\n",
    "        image_base64 = encode_image(img_path)\n",
    "\n",
    "        # GPT-4V OCR 요청\n",
    "        response = client.chat.completions.create(\n",
    "        model=\"gpt-4-turbo-2024-04-09\",\n",
    "        messages=[\n",
    "            {\"role\": \"system\", \"content\": \"You are a helpful translator.\"},\n",
    "            {\n",
    "                \"role\": \"user\",\n",
    "                \"content\": [\n",
    "                    {\"type\": \"text\", \"text\": \"이 이미지에서 영상 자막에 해당하는 텍스트를 **OCR 방식으로 그대로 추출** 추출해줘. 자막이 없으면 '없음'이라고 답해줘.\"},\n",
    "                    {\"type\": \"image_url\", \"image_url\": {\"url\": f\"data:image/jpeg;base64,{image_base64}\"}}\n",
    "                ],\n",
    "            },\n",
    "        ],\n",
    "        max_tokens=300,\n",
    ")\n",
    "\n",
    "        ocr_text = response.choices[0].message.content.strip()\n",
    "        if ocr_text.lower() != '없음':\n",
    "            start_time = idx\n",
    "            end_time = idx + 1\n",
    "            f.write(f\"{idx+1}\\n\")\n",
    "            f.write(f\"{seconds_to_srt_time(start_time)} --> {seconds_to_srt_time(end_time)}\\n\")\n",
    "            f.write(f\"{ocr_text}\\n\\n\")\n",
    "            print(f\"[{filename}] OCR: {ocr_text}\")\n",
    "        else:\n",
    "            print(f\"[{filename}] 자막 없음!\")"
   ]
  },
  {
   "cell_type": "code",
   "execution_count": null,
   "id": "564facde",
   "metadata": {},
   "outputs": [],
   "source": [
    "with open('/Users/chami/Desktop/monu/data/srt/output_gpt4v.srt', 'r', encoding='utf-8') as f:\n",
    "    content = f.read()\n",
    "    print(content)"
   ]
  }
 ],
 "metadata": {
  "kernelspec": {
   "display_name": "monu",
   "language": "python",
   "name": "python3"
  },
  "language_info": {
   "codemirror_mode": {
    "name": "ipython",
    "version": 3
   },
   "file_extension": ".py",
   "mimetype": "text/x-python",
   "name": "python",
   "nbconvert_exporter": "python",
   "pygments_lexer": "ipython3",
   "version": "3.10.16"
  }
 },
 "nbformat": 4,
 "nbformat_minor": 5
}
